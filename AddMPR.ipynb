{
 "cells": [
  {
   "cell_type": "markdown",
   "metadata": {},
   "source": [
    "# Canada's Monetary Policy Report: if text could speak, what would it say?\n",
    "\n",
    "### This notebook adds to the appropriate folder and cleans the most recent MPR.\n",
    "#### Before running this code - Download the latest MPR (PDF) from the BoC website - transform it into a text file - remove charts, tables, footnotes, appendices, and any non-text elements at the beginning or the end of the MPR.\n",
    "\n",
    "#### This workbook should \"just work\". If it does not, or if you find an error, please email the authors.\n",
    "\n",
    "##### André Binette <abinette@bankofcanada.ca>\n",
    "\n",
    "##### Dmitri Tchebotarev <dtchebotarev@bankofcanada.ca>\n",
    "\n",
    "---------------------------------------------------------------------------------------------------------------------------"
   ]
  },
  {
   "cell_type": "markdown",
   "metadata": {},
   "source": [
    "## Set up the environment"
   ]
  },
  {
   "cell_type": "markdown",
   "metadata": {},
   "source": [
    "### Import required modules"
   ]
  },
  {
   "cell_type": "code",
   "execution_count": 1,
   "metadata": {},
   "outputs": [],
   "source": [
    "import spacy\n",
    "nlp = spacy.load(\"en\")\n",
    "import re\n",
    "from pathlib import Path"
   ]
  },
  {
   "cell_type": "markdown",
   "metadata": {},
   "source": [
    "## Define helper functions"
   ]
  },
  {
   "cell_type": "code",
   "execution_count": 2,
   "metadata": {},
   "outputs": [],
   "source": [
    "# Function to clean MPRs\n",
    "\n",
    "def clean_mpr_text(org_text):\n",
    "    text = org_text\n",
    "    \n",
    "    # convert some common Unicode symbols to the corresponding ASCII\n",
    "    # https://en.wikipedia.org/wiki/Quotation_mark\n",
    "    text = re.sub(\"\\u2018|\\u2019|\\u201A|\\u201B|\\u00B4|\\u2039|\\u203A\", \"\\'\", text)\n",
    "    text = re.sub(\"\\u201C|\\u201D|\\u201E|\\u201F|\\u00AB|\\u00BB|\\u2E42\", \"\\\"\", text)\n",
    "    # https://en.wikipedia.org/wiki/Dash\n",
    "    text = re.sub(\"\\u2010|\\u2011|\\u2012|\\u2013|\\u2014\\u2015\", \"-\", text)\n",
    "    # https://en.wikipedia.org/wiki/Bullet_(typography)\n",
    "    text = re.sub(\"\\u2022|\\u2023|\\u2043|\\u204C|\\u204D\", \"*\", text)\n",
    "    \n",
    "    text = re.sub(r\"\\n\\s*\\n\", \"\\n\\n\", text)\n",
    "    text = re.sub(r\"([^\\n])\\n([^\\n])\", \"\\\\1 \\\\2\", text)\n",
    "    text = re.sub(r\"\\n\\n\", \"\\n \\n\", text)\n",
    "    text = re.sub(r\"\\+/\\-\", \"±\", text)\n",
    "    text = re.sub(r\"\\s>\\s\", \" - \", text)\n",
    "    text = re.sub(r\"U\\.S\\.\\s*(Federal\\s*Reserve|CARS|Residential|Real\\s*GDP|Treasuries|Treasury|Midwest|GDP)\", \"US \\\\1\", text)\n",
    "    text = re.sub(r\"U\\.S\\.(\\s*[A-Z])?\", lambda m: \"US\" + ((\".\"+m.group(1)) if m.group(1) else \"\"), text)\n",
    "    text = \"\\n\".join( map( lambda par: re.sub(r\"\\s\", \" \", par), text.splitlines()) )\n",
    "    # remove URL\n",
    "    text = re.sub(r\"\\s*(\\()?(<)?http[^>\\)]*?(?(2)>)(?(1)\\))\\s*(\\.)?\", \n",
    "                  lambda m: \".\" if m.group(3) else \" \", text)\n",
    "    \n",
    "    text = re.sub(r\"\\s*\\((?:\\w*|available on the Bank's website.*?|(?:See|Chart|Table|Box|Technical).*?)\\)\\s*(\\.)?\", \n",
    "                  lambda m: \".\" if m.group(1) else \" \", text)\n",
    "    \n",
    "    return text    \n",
    "\n",
    "\n",
    "# Quick check for the sentences (very short or very long sentences should be look at)\n",
    "\n",
    "def check_mpr_text(text):\n",
    "    found = False\n",
    "    sents = []\n",
    "    text = re.sub(r\"\\s+\", \" \", text)\n",
    "    text = re.sub(r\"\\. \", \".  \", text)\n",
    "    for s in nlp(text).sents:\n",
    "        sents.append(s)\n",
    "        if found:\n",
    "            print(fname, \":\", s, '\\n')\n",
    "            found = False\n",
    "        nwords = sum(t.is_alpha for t in s)     \n",
    "        if (nwords < 3) or any(tok.text in (\".\", \"?\", \"!\") for tok in s[:-2]) or (nwords > 100):\n",
    "            found = True\n",
    "            print(fname, \":\", s)\n",
    "\n",
    "\n",
    "# Save the resulting MPR\n",
    "\n",
    "def save_mpr(text, year, month, day):\n",
    "    fname = \"mpr_text/mpr-%4d-%02d-%02d.txt\" % (year, month, day)    \n",
    "    with open(fname, \"wt\") as ff:\n",
    "        ff.write(text)\n",
    "\n",
    "        \n",
    "# Date format to be enter\n",
    "\n",
    "def date_from_mpr_fname(fname):\n",
    "    match = re.search(r\"(\\d{4})-(\\d{2})-(\\d{2})\", str(fname))\n",
    "    if not match:\n",
    "        raise ValueError(\"No date found in the given filename.\")\n",
    "    return [ int(g) for g in match.groups()]\n",
    "        "
   ]
  },
  {
   "cell_type": "markdown",
   "metadata": {},
   "source": [
    "## Run the function -- need to enter the path of the latest MPR text files"
   ]
  },
  {
   "cell_type": "code",
   "execution_count": 3,
   "metadata": {},
   "outputs": [
    {
     "name": "stdout",
     "output_type": "stream",
     "text": [
      "2019-01-09 MPR-2019-01-09.txt\n"
     ]
    }
   ],
   "source": [
    "# Clean, check and save the MPR for a specific date \n",
    "\n",
    "################################################\n",
    "new_mpr_files = [\"MPR-2019-01-09.txt\", \n",
    "                 ]\n",
    "################################################\n",
    "\n",
    "assert isinstance(new_mpr_files, list), \"It must be a list, not a string!\"\n",
    "for mpr_filename in new_mpr_files:\n",
    "    try:\n",
    "        year, month, day = date_from_mpr_fname(mpr_filename)\n",
    "    except ValueError:\n",
    "        print(\"Enter the publication date for\", mpr_filename)\n",
    "        year = int(input(\"year:\"))\n",
    "        month = int(input(\"month:\"))\n",
    "        day = int(input(\"day:\"))\n",
    "    except:\n",
    "        raise\n",
    "\n",
    "    print(\"%4d-%02d-%02d\" % (year, month, day), mpr_filename)\n",
    "        \n",
    "    with open(mpr_filename, \"rt\") as ff:\n",
    "        text = clean_mpr_text(ff.read())\n",
    "        check_mpr_text(text)\n",
    "        save_mpr(text, year, month, day)\n"
   ]
  },
  {
   "cell_type": "code",
   "execution_count": null,
   "metadata": {},
   "outputs": [],
   "source": []
  }
 ],
 "metadata": {
  "kernelspec": {
   "display_name": "Python 3",
   "language": "python",
   "name": "python3"
  },
  "language_info": {
   "codemirror_mode": {
    "name": "ipython",
    "version": 3
   },
   "file_extension": ".py",
   "mimetype": "text/x-python",
   "name": "python",
   "nbconvert_exporter": "python",
   "pygments_lexer": "ipython3",
   "version": "3.5.6"
  }
 },
 "nbformat": 4,
 "nbformat_minor": 2
}
