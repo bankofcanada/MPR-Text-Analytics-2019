{
 "cells": [
  {
   "cell_type": "markdown",
   "metadata": {},
   "source": [
    "# Canada's Monetary Policy Report: if text could speak, what would it say?\n",
    "\n",
    "## This notebook creates figures 6 and 7 in the Staff Analytical Note (Classifier performance and Sentiment).\n",
    "\n",
    "## It applies a neural net approach based on https://github.com/fastai/fastai/blob/master/courses/dl2/imdb.ipynb\n",
    "\n",
    "### This workbook should \"just work\". If it does not, or if you find an error, please email the authors.\n",
    "\n",
    "##### André Binette <abinette@bankofcanada.ca>\n",
    "\n",
    "##### Dmitri Tchebotarev\n"
   ]
  },
  {
   "cell_type": "markdown",
   "metadata": {},
   "source": [
    "---------------------"
   ]
  },
  {
   "cell_type": "markdown",
   "metadata": {},
   "source": [
    "## Set up the environment"
   ]
  },
  {
   "cell_type": "markdown",
   "metadata": {},
   "source": [
    "### Import required modules"
   ]
  },
  {
   "cell_type": "code",
   "execution_count": 1,
   "metadata": {
    "scrolled": false
   },
   "outputs": [
    {
     "name": "stderr",
     "output_type": "stream",
     "text": [
      "/home/res/bina/.conda/envs/mpr/lib/python3.6/site-packages/sklearn/ensemble/weight_boosting.py:29: DeprecationWarning: numpy.core.umath_tests is an internal NumPy module and should not be imported. It will be removed in a future NumPy release.\n",
      "  from numpy.core.umath_tests import inner1d\n"
     ]
    }
   ],
   "source": [
    "import sys, os\n",
    "sys.path.insert(0,os.path.realpath(\"./fastai/old\"))\n",
    "\n",
    "from fastai.text import *\n",
    "\n",
    "import warnings\n",
    "\n",
    "from fastai.plots import *\n",
    "\n",
    "from sklearn.metrics import confusion_matrix\n",
    "import functools\n",
    "\n",
    "from scipy.stats import zscore\n",
    "\n",
    "import requests\n",
    "from io import BytesIO\n",
    "from zipfile import ZipFile\n",
    "from bs4 import BeautifulSoup\n",
    "import matplotlib.pyplot as plt\n",
    "import matplotlib.patches as patches\n",
    "import datetime as dt\n",
    "import matplotlib.dates as mdates\n",
    "from datetime import datetime, timedelta"
   ]
  },
  {
   "cell_type": "code",
   "execution_count": 2,
   "metadata": {},
   "outputs": [],
   "source": [
    "torch.backends.cudnn.enabled = False"
   ]
  },
  {
   "cell_type": "code",
   "execution_count": 3,
   "metadata": {},
   "outputs": [],
   "source": [
    "#This notebook uses pathlib for munging paths, which provides some additional functionality over plain strings.\n",
    "PATH=Path('data/boc/')\n",
    "\n",
    "CLAS_PATH=Path('data/boc_clas/')\n",
    "CLAS_PATH.mkdir(exist_ok=True)\n",
    "\n",
    "LM_PATH=Path('data/boc_lm/')\n",
    "LM_PATH.mkdir(exist_ok=True)"
   ]
  },
  {
   "cell_type": "markdown",
   "metadata": {},
   "source": [
    "---------"
   ]
  },
  {
   "cell_type": "markdown",
   "metadata": {},
   "source": [
    "## Creating the training and validation set from all MPR sentences"
   ]
  },
  {
   "cell_type": "code",
   "execution_count": 4,
   "metadata": {},
   "outputs": [],
   "source": [
    "# Fine tune the LM model we pass through all MPR sentences, regardless of whether they are\n",
    "#labeled or not, we read in all the sentences.\n",
    "\n",
    "CLASSES = ['neg', 'pos', 'unsup', 'meh']\n",
    "\n",
    "def get_texts(path):\n",
    "    texts,labels = [],[]\n",
    "    for idx,label in enumerate(CLASSES):\n",
    "        with open(str(path/(label+\".txt\")), \"tr\") as f:\n",
    "            for line in f:\n",
    "                texts.append(\"xbos xfld 1 \" + line.rstrip())\n",
    "                labels.append(idx)\n",
    "    return np.array(texts),np.array(labels)\n",
    "\n",
    "trn_texts,trn_labels = get_texts(PATH/'train')"
   ]
  },
  {
   "cell_type": "code",
   "execution_count": 5,
   "metadata": {},
   "outputs": [
    {
     "data": {
      "text/plain": [
       "14921"
      ]
     },
     "execution_count": 5,
     "metadata": {},
     "output_type": "execute_result"
    }
   ],
   "source": [
    "# Total number of sentences\n",
    "len(trn_texts)"
   ]
  },
  {
   "cell_type": "markdown",
   "metadata": {},
   "source": [
    "### We use a random permutation np array to shuffle the sentences."
   ]
  },
  {
   "cell_type": "code",
   "execution_count": 6,
   "metadata": {},
   "outputs": [],
   "source": [
    "np.random.seed(np.prod([ord(c) for c in 'deaa']))\n",
    "trn_idx = np.random.permutation(len(trn_texts))\n",
    "trn_texts = trn_texts[trn_idx]\n",
    "trn_labels = trn_labels[trn_idx]"
   ]
  },
  {
   "cell_type": "markdown",
   "metadata": {},
   "source": [
    "### Then use scikit-learn to split into a training and validation set."
   ]
  },
  {
   "cell_type": "code",
   "execution_count": 7,
   "metadata": {},
   "outputs": [],
   "source": [
    "trn_texts,val_texts = sklearn.model_selection.train_test_split(\n",
    "    np.concatenate([trn_texts]), test_size=0.1)"
   ]
  },
  {
   "cell_type": "code",
   "execution_count": 8,
   "metadata": {},
   "outputs": [
    {
     "data": {
      "text/plain": [
       "(13428, 1493)"
      ]
     },
     "execution_count": 8,
     "metadata": {},
     "output_type": "execute_result"
    }
   ],
   "source": [
    "len(trn_texts), len(val_texts)"
   ]
  },
  {
   "cell_type": "markdown",
   "metadata": {},
   "source": [
    "### Format the data and store them as CSV files"
   ]
  },
  {
   "cell_type": "code",
   "execution_count": 9,
   "metadata": {},
   "outputs": [],
   "source": [
    "col_names = ['labels','text']\n",
    "\n",
    "df_trn = pd.DataFrame({'text':trn_texts, 'labels':[0]*len(trn_texts)}, columns=col_names)\n",
    "df_val = pd.DataFrame({'text':val_texts, 'labels':[0]*len(val_texts)}, columns=col_names)\n",
    "\n",
    "df_trn.to_csv(LM_PATH/'train.csv', header=False, index=False)\n",
    "df_val.to_csv(LM_PATH/'test.csv', header=False, index=False)"
   ]
  },
  {
   "cell_type": "markdown",
   "metadata": {},
   "source": [
    "----------"
   ]
  },
  {
   "cell_type": "markdown",
   "metadata": {},
   "source": [
    "## Language model tokens"
   ]
  },
  {
   "cell_type": "markdown",
   "metadata": {},
   "source": [
    "In this section, we use the [spacy](http://spacy.io) library to tokenize the data. Since spacy does not provide a parallel/multicore version of the tokenizer, the fastai library adds this functionality. This parallel version uses all the cores of your CPUs and runs much faster than the serial version of the spacy tokenizer.\n",
    "\n",
    "Tokenization is the process of splitting the text into separate tokens so that each token can be assigned a unique index. This means we can convert the text into integer indexes which our models can use.\n",
    "\n",
    "We use an appropriate chunksize as the tokenization process is memory intensive."
   ]
  },
  {
   "cell_type": "code",
   "execution_count": 10,
   "metadata": {},
   "outputs": [],
   "source": [
    "def get_tokenized_texts(df, n_lbls=1, tokenizer=Tokenizer()):\n",
    "    labels = df.iloc[:,range(n_lbls)].values.astype(np.int64)\n",
    "    texts = df.iloc[:,1].astype(str)\n",
    "    tok = [tokenizer.proc_text(s) for s in texts]\n",
    "    return tok, list(labels)"
   ]
  },
  {
   "cell_type": "code",
   "execution_count": 11,
   "metadata": {},
   "outputs": [],
   "source": [
    "df_trn = pd.read_csv(LM_PATH/'train.csv', header=None)#, chunksize=chunksize)\n",
    "df_val = pd.read_csv(LM_PATH/'test.csv', header=None)#, chunksize=chunksize)"
   ]
  },
  {
   "cell_type": "code",
   "execution_count": 12,
   "metadata": {
    "scrolled": false
   },
   "outputs": [],
   "source": [
    "tok_trn, trn_labels = get_tokenized_texts(df_trn)\n",
    "tok_val, val_labels = get_tokenized_texts(df_val)"
   ]
  },
  {
   "cell_type": "code",
   "execution_count": 13,
   "metadata": {
    "scrolled": true
   },
   "outputs": [
    {
     "data": {
      "text/plain": [
       "[('the', 25059),\n",
       " (',', 15700),\n",
       " ('in', 15426),\n",
       " ('1', 13844),\n",
       " ('.', 13431),\n",
       " ('xbos', 13428),\n",
       " ('xfld', 13428),\n",
       " ('of', 11814),\n",
       " ('to', 10614),\n",
       " ('and', 8631)]"
      ]
     },
     "execution_count": 13,
     "metadata": {},
     "output_type": "execute_result"
    }
   ],
   "source": [
    "freq = Counter(p for o in tok_trn for p in o)\n",
    "freq.most_common(10)"
   ]
  },
  {
   "cell_type": "code",
   "execution_count": 14,
   "metadata": {},
   "outputs": [],
   "source": [
    "max_vocab = 3000\n",
    "min_freq = 2\n",
    "\n",
    "itos = [o for o,c in freq.most_common(max_vocab) if c>min_freq]\n",
    "itos.insert(0, '_pad_')\n",
    "itos.insert(0, '_unk_')"
   ]
  },
  {
   "cell_type": "code",
   "execution_count": 15,
   "metadata": {},
   "outputs": [
    {
     "data": {
      "text/plain": [
       "3002"
      ]
     },
     "execution_count": 15,
     "metadata": {},
     "output_type": "execute_result"
    }
   ],
   "source": [
    "len(itos)"
   ]
  },
  {
   "cell_type": "markdown",
   "metadata": {},
   "source": [
    "We create a reverse mapping called stoi which is useful to lookup the index of a given token. stoi also has the same number of elements as itos. We use a high performance container called [collections.defaultdict](https://docs.python.org/2/library/collections.html#collections.defaultdict) to store our stoi mapping."
   ]
  },
  {
   "cell_type": "code",
   "execution_count": 16,
   "metadata": {},
   "outputs": [],
   "source": [
    "stoi = collections.defaultdict(lambda:0, {v:k for k,v in enumerate(itos)})\n",
    "vs = len(itos)"
   ]
  },
  {
   "cell_type": "code",
   "execution_count": 17,
   "metadata": {},
   "outputs": [],
   "source": [
    "trn_lm = np.array([[stoi[o] for o in p] for p in tok_trn])\n",
    "val_lm = np.array([[stoi[o] for o in p] for p in tok_val])"
   ]
  },
  {
   "cell_type": "markdown",
   "metadata": {},
   "source": [
    "---------------"
   ]
  },
  {
   "cell_type": "markdown",
   "metadata": {},
   "source": [
    "## wikitext103 conversion"
   ]
  },
  {
   "cell_type": "markdown",
   "metadata": {},
   "source": [
    "We are now going to build an english language model. We could start from scratch and try to learn the structure of the english language. But we use a technique called transfer learning to make this process easier. In transfer learning a pre-trained LM that has been trained on a large generic corpus(_like wikipedia articles_) can be used to transfer it's knowledge to a target LM and the weights can be fine-tuned.\n",
    "\n",
    "Our source LM is the wikitext103 LM created by Stephen Merity @ Salesforce research. [Link to dataset](https://www.salesforce.com/products/einstein/ai-research/the-wikitext-dependency-language-modeling-dataset/)\n",
    "The language model for wikitext103 (AWD LSTM) has been pre-trained and the weights can be downloaded here: [Link](http://files.fast.ai/models/wt103/). Our target LM is the IMDB LM. "
   ]
  },
  {
   "cell_type": "code",
   "execution_count": 18,
   "metadata": {},
   "outputs": [],
   "source": [
    "#! wget -nH -r -np -P {PATH} http://files.fast.ai/models/wt103/"
   ]
  },
  {
   "cell_type": "markdown",
   "metadata": {},
   "source": [
    "The pre-trained LM weights have an embedding size of 400, 1150 hidden units and just 3 layers. We need to match these values  with the target LM so that the weights can be loaded up."
   ]
  },
  {
   "cell_type": "code",
   "execution_count": 19,
   "metadata": {},
   "outputs": [],
   "source": [
    "em_sz,nh,nl = 400,1150,3"
   ]
  },
  {
   "cell_type": "code",
   "execution_count": 20,
   "metadata": {},
   "outputs": [],
   "source": [
    "PRE_PATH = PATH/'models'/'wt103'\n",
    "PRE_LM_PATH = PRE_PATH/'fwd_wt103.h5'"
   ]
  },
  {
   "cell_type": "code",
   "execution_count": 21,
   "metadata": {},
   "outputs": [],
   "source": [
    "wgts = torch.load(PRE_LM_PATH, map_location=lambda storage, loc: storage)"
   ]
  },
  {
   "cell_type": "markdown",
   "metadata": {},
   "source": [
    "We calculate the mean of the layer0 encoder weights. This can be used to assign weights to unknown tokens when we transfer to target LM."
   ]
  },
  {
   "cell_type": "code",
   "execution_count": 22,
   "metadata": {},
   "outputs": [],
   "source": [
    "enc_wgts = to_np(wgts['0.encoder.weight'])\n",
    "row_m = enc_wgts.mean(0)"
   ]
  },
  {
   "cell_type": "code",
   "execution_count": 23,
   "metadata": {},
   "outputs": [],
   "source": [
    "itos2 = pickle.load((PRE_PATH/'itos_wt103.pkl').open('rb'))\n",
    "stoi2 = collections.defaultdict(lambda:-1, {v:k for k,v in enumerate(itos2)})"
   ]
  },
  {
   "cell_type": "markdown",
   "metadata": {},
   "source": [
    "Before we try to transfer the knowledge from wikitext to the LM, we match up the vocab words and their indexes. \n",
    "We use the defaultdict container once again, to assign mean weights to unknown tokens that do not exist in wikitext103."
   ]
  },
  {
   "cell_type": "code",
   "execution_count": 24,
   "metadata": {},
   "outputs": [],
   "source": [
    "new_w = np.zeros((vs, em_sz), dtype=np.float32)\n",
    "for i,w in enumerate(itos):\n",
    "    r = stoi2[w]\n",
    "    new_w[i] = enc_wgts[r] if r>=0 else row_m"
   ]
  },
  {
   "cell_type": "markdown",
   "metadata": {},
   "source": [
    "We now overwrite the weights into the wgts odict.\n",
    "The decoder module, which we will explore in detail is also loaded with the same weights due to an idea called weight tying."
   ]
  },
  {
   "cell_type": "code",
   "execution_count": 25,
   "metadata": {},
   "outputs": [],
   "source": [
    "wgts['0.encoder.weight'] = T(new_w)\n",
    "wgts['0.encoder_with_dropout.embed.weight'] = T(np.copy(new_w))\n",
    "wgts['1.decoder.weight'] = T(np.copy(new_w))"
   ]
  },
  {
   "cell_type": "markdown",
   "metadata": {},
   "source": [
    "Now that we have the weights prepared, we are ready to create and start training our new language pytorch model!"
   ]
  },
  {
   "cell_type": "markdown",
   "metadata": {},
   "source": [
    "## Language model"
   ]
  },
  {
   "cell_type": "markdown",
   "metadata": {},
   "source": [
    "It is fairly straightforward to create a new language model using the fastai library. Our model will have a backbone and a custom head. The backbone in our case is the LM pre-trained with wikitext and the custom head is a linear classifier. In this section we will focus on the backbone LM and the next section will talk about the classifier custom head.\n",
    "\n",
    "bptt (*also known traditionally in NLP LM as ngrams*) in fastai LMs is approximated to a std. deviation around 70, by perturbing the sequence length on a per-batch basis. This is akin to shuffling our data in computer vision, only that in NLP we cannot shuffle inputs and we have to maintain statefulness. \n",
    "\n",
    "Since we are predicting words using ngrams, we want our next batch to line up with the end-points of the previous mini-batch's items. batch-size is constant and but the fastai library expands and contracts bptt each mini-batch using a clever stochastic implementation of a batch. (original credits attributed to [Smerity](https://twitter.com/jeremyphoward/status/980227258395770882))"
   ]
  },
  {
   "cell_type": "code",
   "execution_count": 26,
   "metadata": {},
   "outputs": [],
   "source": [
    "wd=1e-7\n",
    "bptt=70\n",
    "bs=64\n",
    "opt_fn = partial(optim.Adam, betas=(0.8, 0.99))"
   ]
  },
  {
   "cell_type": "markdown",
   "metadata": {},
   "source": [
    "The goal of the LM is to learn to predict a word/token given a preceeding set of words(tokens). We take all the sentences in both the training set and validation set and concatenate them to form long strings of tokens. In fastai, we use the `LanguageModelLoader` to create a data loader which makes it easy to create and use bptt sized mini batches. The  `LanguageModelLoader` takes a concatenated string of tokens and returns a loader.\n",
    "\n",
    "We have a special modeldata object class for LMs called `LanguageModelData` to which we can pass the training and validation loaders and get in return the model itself."
   ]
  },
  {
   "cell_type": "code",
   "execution_count": 27,
   "metadata": {},
   "outputs": [],
   "source": [
    "trn_dl = LanguageModelLoader(np.concatenate(trn_lm), bs, bptt)\n",
    "val_dl = LanguageModelLoader(np.concatenate(val_lm), bs, bptt)\n",
    "md = LanguageModelData(PATH, 1, vs, trn_dl, val_dl, bs=bs, bptt=bptt)"
   ]
  },
  {
   "cell_type": "markdown",
   "metadata": {},
   "source": [
    "We setup the dropouts for the model - these values have been chosen after experimentation. If you need to update them for custom LMs, you can change the weighting factor (0.7 here) based on the amount of data you have. For more data, you can reduce dropout factor and for small datasets, you can reduce overfitting by choosing a higher dropout factor. *No other dropout value requires tuning*"
   ]
  },
  {
   "cell_type": "code",
   "execution_count": 28,
   "metadata": {},
   "outputs": [],
   "source": [
    "drops = np.array([0.25, 0.1, 0.2, 0.02, 0.15])*1#0.7"
   ]
  },
  {
   "cell_type": "markdown",
   "metadata": {},
   "source": [
    "We first tune the last embedding layer so that the missing tokens initialized with mean weights get tuned properly. So we freeze everything except the last layer.\n",
    "\n",
    "We also keep track of the *accuracy* metric."
   ]
  },
  {
   "cell_type": "code",
   "execution_count": 29,
   "metadata": {},
   "outputs": [],
   "source": [
    "learner= md.get_model(opt_fn, em_sz, nh, nl, \n",
    "    dropouti=drops[0], dropout=drops[1], wdrop=drops[2], dropoute=drops[3], dropouth=drops[4])\n",
    "\n",
    "learner.metrics = [accuracy]\n",
    "learner.freeze_to(-1)"
   ]
  },
  {
   "cell_type": "code",
   "execution_count": 30,
   "metadata": {},
   "outputs": [],
   "source": [
    "learner.model.load_state_dict(wgts)"
   ]
  },
  {
   "cell_type": "markdown",
   "metadata": {},
   "source": [
    "We set learning rates and fit our LM. We first run one epoch to tune the last layer which contains the embedding weights. This should help the missing tokens in the wikitext103 learn better weights."
   ]
  },
  {
   "cell_type": "code",
   "execution_count": 31,
   "metadata": {},
   "outputs": [],
   "source": [
    "lr=4e-3\n",
    "lrs = lrs = np.array([lr/6,lr/3,lr,lr/2])"
   ]
  },
  {
   "cell_type": "code",
   "execution_count": 32,
   "metadata": {},
   "outputs": [
    {
     "data": {
      "application/vnd.jupyter.widget-view+json": {
       "model_id": "510e24ee3ef34489ba6e1d85fa4f4671",
       "version_major": 2,
       "version_minor": 0
      },
      "text/plain": [
       "HBox(children=(IntProgress(value=0, description='Epoch', max=50, style=ProgressStyle(description_width='initia…"
      ]
     },
     "metadata": {},
     "output_type": "display_data"
    },
    {
     "name": "stdout",
     "output_type": "stream",
     "text": [
      "epoch      trn_loss   val_loss   accuracy                 \n",
      "    0      4.738204   4.157265   0.321488  \n",
      "    1      4.305157   3.720086   0.349857                 \n",
      "    2      3.884904   3.344446   0.37704                  \n",
      "    3      3.52687    3.060042   0.419873                 \n",
      "    4      3.29097    2.900182   0.439794                 \n",
      "    5      3.124517   2.799553   0.448869                 \n",
      "    6      3.027772   2.730043   0.456418                 \n",
      "    7      2.94754    2.68188    0.461483                 \n",
      "    8      2.879241   2.638991   0.465901                 \n",
      "    9      2.844203   2.61188    0.469015                 \n",
      "    10     2.795701   2.585281   0.472044                 \n",
      "    11     2.766382   2.563747   0.473917                 \n",
      "    12     2.738594   2.551506   0.476207                 \n",
      "    13     2.718729   2.538289   0.476987                 \n",
      "    14     2.699024   2.526093   0.477679                 \n",
      "    15     2.669751   2.512039   0.479321                 \n",
      "    16     2.656446   2.500982   0.481314                 \n",
      "    17     2.650398   2.493937   0.482002                 \n",
      "    18     2.634927   2.488609   0.481955                 \n",
      "    19     2.615983   2.482681   0.482967                 \n",
      "    20     2.600868   2.474046   0.485092                 \n",
      "    21     2.593789   2.472581   0.484782                 \n",
      "    22     2.584435   2.461262   0.486751                 \n",
      "    23     2.582088   2.457217   0.487805                 \n",
      "    24     2.57305    2.459123   0.486588                 \n",
      "    25     2.56954    2.448775   0.488603                 \n",
      "    26     2.565285   2.45016    0.489334                 \n",
      "    27     2.547801   2.445893   0.48941                  \n",
      "    28     2.553057   2.446452   0.489124                 \n",
      "    29     2.551499   2.443151   0.490055                 \n",
      "    30     2.534768   2.428988   0.492128                 \n",
      "    31     2.52566    2.437196   0.491152                 \n",
      "    32     2.531784   2.438042   0.490809                 \n",
      "    33     2.530458   2.437806   0.490263                 \n",
      "    34     2.523447   2.437273   0.490344                 \n",
      "    35     2.53741    2.429826   0.491813                 \n",
      "    36     2.517157   2.428189   0.491663                 \n",
      "    37     2.514964   2.428562   0.491553                 \n",
      "    38     2.512428   2.42796    0.491473                 \n",
      "    39     2.505479   2.424917   0.492119                 \n",
      "    40     2.499404   2.422417   0.492851                 \n",
      "    41     2.495194   2.422473   0.492322                 \n",
      "    42     2.49891    2.422948   0.492315                 \n",
      "    43     2.501581   2.423237   0.492211                 \n",
      "    44     2.487351   2.421868   0.492584                 \n",
      "    45     2.499552   2.415832   0.4931                   \n",
      "    46     2.492726   2.416829   0.493619                 \n",
      "    47     2.496556   2.417392   0.492809                 \n",
      "    48     2.492126   2.42077    0.49229                  \n",
      "    49     2.502481   2.417208   0.493284                 \n",
      "\n",
      "CPU times: user 3d 17h 45min 45s, sys: 26min 28s, total: 3d 18h 12min 14s\n",
      "Wall time: 4h 14min\n"
     ]
    },
    {
     "data": {
      "text/plain": [
       "[2.4172083536783853, 0.4932840234703488]"
      ]
     },
     "execution_count": 32,
     "metadata": {},
     "output_type": "execute_result"
    }
   ],
   "source": [
    "%%time\n",
    "learner.fit(lrs, 1, wds=wd, use_clr=(32,10), cycle_len=50)"
   ]
  },
  {
   "cell_type": "code",
   "execution_count": 33,
   "metadata": {},
   "outputs": [],
   "source": [
    "learner.save('lm1')"
   ]
  },
  {
   "cell_type": "code",
   "execution_count": 34,
   "metadata": {},
   "outputs": [],
   "source": [
    "learner.save_encoder('lm1_enc')"
   ]
  },
  {
   "cell_type": "code",
   "execution_count": 35,
   "metadata": {},
   "outputs": [],
   "source": [
    "try: del learner\n",
    "except: pass"
   ]
  },
  {
   "cell_type": "markdown",
   "metadata": {},
   "source": [
    "## Classifier tokens"
   ]
  },
  {
   "cell_type": "markdown",
   "metadata": {},
   "source": [
    "The classifier model is basically a linear layer custom head on top of the LM backbone. Setting up the classifier data is similar to the LM data setup except that we cannot use the unsup sentences this time."
   ]
  },
  {
   "cell_type": "code",
   "execution_count": 36,
   "metadata": {},
   "outputs": [],
   "source": [
    "CLASSES = ['neg', 'pos','meh']\n",
    "\n",
    "trn_texts,trn_labels = get_texts(PATH/'train')\n",
    "# val_texts,val_labels = get_texts(PATH/'test')"
   ]
  },
  {
   "cell_type": "code",
   "execution_count": 37,
   "metadata": {},
   "outputs": [
    {
     "data": {
      "text/plain": [
       "900"
      ]
     },
     "execution_count": 37,
     "metadata": {},
     "output_type": "execute_result"
    }
   ],
   "source": [
    "len(trn_texts)#,len(val_texts)"
   ]
  },
  {
   "cell_type": "code",
   "execution_count": 38,
   "metadata": {},
   "outputs": [],
   "source": [
    "col_names = ['labels','text']"
   ]
  },
  {
   "cell_type": "markdown",
   "metadata": {},
   "source": [
    "We use a random permutation np array to shuffle the text reviews."
   ]
  },
  {
   "cell_type": "code",
   "execution_count": 39,
   "metadata": {},
   "outputs": [],
   "source": [
    "np.random.seed(np.prod([ord(c) for c in 'deaa']))\n",
    "trn_idx = np.random.permutation(len(trn_texts))\n",
    "# val_idx = np.random.permutation(len(val_texts))"
   ]
  },
  {
   "cell_type": "code",
   "execution_count": 40,
   "metadata": {},
   "outputs": [],
   "source": [
    "trn_texts = trn_texts[trn_idx]\n",
    "# val_texts = val_texts[val_idx]\n",
    "\n",
    "trn_labels = trn_labels[trn_idx]\n",
    "# val_labels = val_labels[val_idx]"
   ]
  },
  {
   "cell_type": "code",
   "execution_count": 41,
   "metadata": {},
   "outputs": [],
   "source": [
    "df_trn = pd.DataFrame({'text':trn_texts, 'labels':trn_labels}, columns=col_names)\n",
    "df_val = df_trn.sample(len(df_trn)//10)\n",
    "df_trn = df_trn[~df_trn.index.isin(df_val.index)]"
   ]
  },
  {
   "cell_type": "code",
   "execution_count": 42,
   "metadata": {},
   "outputs": [],
   "source": [
    "tok_trn, trn_labels = get_tokenized_texts(df_trn)\n",
    "tok_val, val_labels = get_tokenized_texts(df_val)"
   ]
  },
  {
   "cell_type": "code",
   "execution_count": 43,
   "metadata": {},
   "outputs": [],
   "source": [
    "trn_clas = np.array([[stoi[o] for o in p] for p in tok_trn])\n",
    "val_clas = np.array([[stoi[o] for o in p] for p in tok_val])"
   ]
  },
  {
   "cell_type": "code",
   "execution_count": 44,
   "metadata": {},
   "outputs": [],
   "source": [
    "trn_labels = np.squeeze(trn_labels)\n",
    "val_labels = np.squeeze(val_labels)"
   ]
  },
  {
   "cell_type": "markdown",
   "metadata": {},
   "source": [
    "## Classifier"
   ]
  },
  {
   "cell_type": "markdown",
   "metadata": {},
   "source": [
    "Now we can create our final model, a classifier which is really a custom linear head over our trained backbone. The steps to create the classifier model are similar to the ones for the LM."
   ]
  },
  {
   "cell_type": "code",
   "execution_count": 45,
   "metadata": {},
   "outputs": [],
   "source": [
    "bptt,em_sz,nh,nl = 70,400,1150,3\n",
    "vs = len(itos)\n",
    "opt_fn = partial(optim.Adam, betas=(0.8, 0.99))\n",
    "bs = 64"
   ]
  },
  {
   "cell_type": "code",
   "execution_count": 46,
   "metadata": {},
   "outputs": [],
   "source": [
    "min_lbl = trn_labels.min()\n",
    "trn_labels -= min_lbl\n",
    "val_labels -= min_lbl\n",
    "c=int(trn_labels.max())+1"
   ]
  },
  {
   "cell_type": "markdown",
   "metadata": {},
   "source": [
    "In the classifier, unlike LM, we need to read a sentence at a time and learn to predict it's sentiment as pos/neg. We do not deal with equal bptt size batches, so we have to pad the sequences to the same length in each batch. To create batches of similar sized, we use a sortish sampler method invented by [@Smerity](https://twitter.com/Smerity) and [@jekbradbury](https://twitter.com/jekbradbury)\n",
    "\n",
    "The sortishSampler cuts down the overall number of padding tokens the classifier ends up seeing."
   ]
  },
  {
   "cell_type": "code",
   "execution_count": 47,
   "metadata": {},
   "outputs": [],
   "source": [
    "trn_ds = TextDataset(trn_clas, trn_labels)\n",
    "val_ds = TextDataset(val_clas, val_labels)\n",
    "trn_samp = SortishSampler(trn_clas, key=lambda x: len(trn_clas[x]), bs=bs//2)\n",
    "val_samp = SortSampler(val_clas, key=lambda x: len(val_clas[x]))\n",
    "trn_dl = DataLoader(trn_ds, bs//2, transpose=True, num_workers=1, pad_idx=1, sampler=trn_samp)\n",
    "val_dl = DataLoader(val_ds, bs, transpose=True, num_workers=1, pad_idx=1, sampler=val_samp)\n",
    "md = ModelData(PATH, trn_dl, val_dl)"
   ]
  },
  {
   "cell_type": "code",
   "execution_count": 48,
   "metadata": {},
   "outputs": [
    {
     "data": {
      "text/plain": [
       "810"
      ]
     },
     "execution_count": 48,
     "metadata": {},
     "output_type": "execute_result"
    }
   ],
   "source": [
    "len(trn_ds)"
   ]
  },
  {
   "cell_type": "code",
   "execution_count": 49,
   "metadata": {},
   "outputs": [
    {
     "data": {
      "text/plain": [
       "90"
      ]
     },
     "execution_count": 49,
     "metadata": {},
     "output_type": "execute_result"
    }
   ],
   "source": [
    "len(val_ds)"
   ]
  },
  {
   "cell_type": "markdown",
   "metadata": {},
   "source": [
    "## Training the language model and the classifier"
   ]
  },
  {
   "cell_type": "markdown",
   "metadata": {},
   "source": [
    "dps = np.array([0.4, 0.5, 0.05, 0.3, 0.1])*1.4"
   ]
  },
  {
   "cell_type": "code",
   "execution_count": 50,
   "metadata": {},
   "outputs": [],
   "source": [
    "dps = np.array([0.4,0.5,0.05,0.3,0.4])*1.35"
   ]
  },
  {
   "cell_type": "code",
   "execution_count": 51,
   "metadata": {},
   "outputs": [],
   "source": [
    "m = get_rnn_classifer(bptt, 20*70, c, vs, emb_sz=em_sz, n_hid=nh, n_layers=nl, pad_token=1,\n",
    "          layers=[em_sz*3, 50, c], drops=[dps[4], 0.1],\n",
    "          dropouti=dps[0], wdrop=dps[1], dropoute=dps[2], dropouth=dps[3])"
   ]
  },
  {
   "cell_type": "code",
   "execution_count": 52,
   "metadata": {},
   "outputs": [],
   "source": [
    "opt_fn = partial(optim.Adam, betas=(0.7, 0.99))"
   ]
  },
  {
   "cell_type": "code",
   "execution_count": 53,
   "metadata": {},
   "outputs": [],
   "source": [
    "learn = RNN_Learner(md, TextModel(to_gpu(m)), opt_fn=opt_fn)\n",
    "learn.reg_fn = partial(seq2seq_reg, alpha=2, beta=1)\n",
    "learn.clip=25.\n",
    "learn.metrics = [accuracy]"
   ]
  },
  {
   "cell_type": "code",
   "execution_count": 54,
   "metadata": {},
   "outputs": [],
   "source": [
    "lr=3e-3\n",
    "lrm = 2.6\n",
    "lrs = np.array([lr/(lrm**4), lr/(lrm**3), lr/(lrm**2), lr/lrm, lr])"
   ]
  },
  {
   "cell_type": "markdown",
   "metadata": {},
   "source": [
    "lrs=np.array([1e-4,1e-4,1e-4,1e-3,1e-2])*2"
   ]
  },
  {
   "cell_type": "code",
   "execution_count": 55,
   "metadata": {},
   "outputs": [],
   "source": [
    "wd = 1e-6\n",
    "# wd = 0\n",
    "learn.load_encoder('lm1_enc')"
   ]
  },
  {
   "cell_type": "code",
   "execution_count": 56,
   "metadata": {},
   "outputs": [],
   "source": [
    "learn.freeze_to(-1)"
   ]
  },
  {
   "cell_type": "code",
   "execution_count": 57,
   "metadata": {},
   "outputs": [],
   "source": [
    "# import warnings\n",
    "warnings.filterwarnings(\"ignore\", category=UserWarning)"
   ]
  },
  {
   "cell_type": "code",
   "execution_count": 58,
   "metadata": {
    "scrolled": false
   },
   "outputs": [
    {
     "data": {
      "application/vnd.jupyter.widget-view+json": {
       "model_id": "cb02bdb660834b68945274f085bcd27b",
       "version_major": 2,
       "version_minor": 0
      },
      "text/plain": [
       "HBox(children=(IntProgress(value=0, description='Epoch', max=20, style=ProgressStyle(description_width='initia…"
      ]
     },
     "metadata": {},
     "output_type": "display_data"
    },
    {
     "name": "stdout",
     "output_type": "stream",
     "text": [
      "epoch      trn_loss   val_loss   accuracy                 \n",
      "    0      1.113984   1.040521   0.566667  \n",
      "    1      1.068938   0.89921    0.611111                 \n",
      "    2      1.037036   0.845945   0.566667                 \n",
      "    3      1.015312   0.817725   0.6                      \n",
      "    4      0.989748   0.773899   0.633333                  \n",
      "    5      0.986382   0.762966   0.655556                  \n",
      "    6      0.980703   0.777572   0.688889                  \n",
      "    7      0.979219   0.771307   0.688889                  \n",
      "    8      0.974916   0.790074   0.7                       \n",
      "    9      0.966882   0.75254    0.688889                  \n",
      "    10     0.967451   0.775707   0.666667                  \n",
      "    11     0.968132   0.786648   0.666667                  \n",
      "    12     0.957135   0.756763   0.655556                  \n",
      "    13     0.949537   0.771805   0.644444                  \n",
      "    14     0.922454   0.78357    0.644444                  \n",
      "    15     0.918733   0.756716   0.655556                  \n",
      "    16     0.915544   0.747172   0.644444                  \n",
      "    17     0.914841   0.748273   0.611111                  \n",
      "    18     0.9257     0.755515   0.633333                  \n",
      "    19     0.928016   0.751078   0.622222                  \n",
      "\n",
      "CPU times: user 1h 53min 26s, sys: 1.28 s, total: 1h 53min 27s\n",
      "Wall time: 4min 13s\n"
     ]
    },
    {
     "data": {
      "text/plain": [
       "[0.7510779950353834, 0.6222222288449605]"
      ]
     },
     "execution_count": 58,
     "metadata": {},
     "output_type": "execute_result"
    }
   ],
   "source": [
    "%%time\n",
    "learn.fit(lrs, 1, wds=wd, cycle_len=20, use_clr=(8,3))"
   ]
  },
  {
   "cell_type": "code",
   "execution_count": 59,
   "metadata": {},
   "outputs": [],
   "source": [
    "learn.save('clas_0')"
   ]
  },
  {
   "cell_type": "code",
   "execution_count": 60,
   "metadata": {},
   "outputs": [],
   "source": [
    "learn.load('clas_0')"
   ]
  },
  {
   "cell_type": "code",
   "execution_count": 61,
   "metadata": {},
   "outputs": [],
   "source": [
    "learn.freeze_to(-2)"
   ]
  },
  {
   "cell_type": "code",
   "execution_count": 62,
   "metadata": {},
   "outputs": [
    {
     "data": {
      "application/vnd.jupyter.widget-view+json": {
       "model_id": "6667267c2c604302be81ed183d025c87",
       "version_major": 2,
       "version_minor": 0
      },
      "text/plain": [
       "HBox(children=(IntProgress(value=0, description='Epoch', max=20, style=ProgressStyle(description_width='initia…"
      ]
     },
     "metadata": {},
     "output_type": "display_data"
    },
    {
     "name": "stdout",
     "output_type": "stream",
     "text": [
      "epoch      trn_loss   val_loss   accuracy                  \n",
      "    0      0.920075   0.738577   0.655556  \n",
      "    1      0.926131   0.732942   0.666667                  \n",
      "    2      0.937815   0.727418   0.622222                  \n",
      "    3      0.931443   0.71645    0.655556                  \n",
      "    4      0.931675   0.680632   0.744444                  \n",
      "    5      0.891684   0.648179   0.766667                  \n",
      "    6      0.899113   0.669247   0.744444                  \n",
      "    7      0.913757   0.672778   0.8                       \n",
      "    8      0.886137   0.617714   0.855556                  \n",
      "    9      0.884683   0.598212   0.8                       \n",
      "    10     0.871842   0.611193   0.822222                  \n",
      "    11     0.861563   0.589866   0.822222                  \n",
      "    12     0.845505   0.592709   0.844444                  \n",
      "    13     0.837334   0.588254   0.811111                  \n",
      "    14     0.850592   0.598448   0.733333                  \n",
      "    15     0.847119   0.596153   0.755556                  \n",
      "    16     0.844024   0.573277   0.788889                  \n",
      "    17     0.84166    0.574762   0.777778                  \n",
      "    18     0.836993   0.580573   0.744444                  \n",
      "    19     0.835126   0.599203   0.766667                  \n",
      "\n",
      "CPU times: user 2h 38min 17s, sys: 2.68 s, total: 2h 38min 20s\n",
      "Wall time: 5min 54s\n"
     ]
    },
    {
     "data": {
      "text/plain": [
       "[0.5992028673489889, 0.766666669315762]"
      ]
     },
     "execution_count": 62,
     "metadata": {},
     "output_type": "execute_result"
    }
   ],
   "source": [
    "%%time\n",
    "learn.fit(lrs, 1, wds=wd, cycle_len=20, use_clr=(8,3))"
   ]
  },
  {
   "cell_type": "code",
   "execution_count": 63,
   "metadata": {},
   "outputs": [],
   "source": [
    "learn.save('clas_1')"
   ]
  },
  {
   "cell_type": "code",
   "execution_count": 64,
   "metadata": {},
   "outputs": [],
   "source": [
    "learn.load('clas_1')"
   ]
  },
  {
   "cell_type": "code",
   "execution_count": 65,
   "metadata": {},
   "outputs": [],
   "source": [
    "learn.unfreeze()"
   ]
  },
  {
   "cell_type": "code",
   "execution_count": 66,
   "metadata": {
    "scrolled": false
   },
   "outputs": [
    {
     "data": {
      "application/vnd.jupyter.widget-view+json": {
       "model_id": "5f9e4fbade064db39d10477da2195838",
       "version_major": 2,
       "version_minor": 0
      },
      "text/plain": [
       "HBox(children=(IntProgress(value=0, description='Epoch', max=60, style=ProgressStyle(description_width='initia…"
      ]
     },
     "metadata": {},
     "output_type": "display_data"
    },
    {
     "name": "stdout",
     "output_type": "stream",
     "text": [
      "epoch      trn_loss   val_loss   accuracy                  \n",
      "    0      0.810904   0.564955   0.8       \n",
      "    1      0.833903   0.525123   0.844444                  \n",
      "    2      0.830276   0.528322   0.855556                  \n",
      "    3      0.813517   0.509737   0.866667                  \n",
      "    4      0.796316   0.46778    0.866667                  \n",
      "    5      0.794056   0.455714   0.866667                  \n",
      "    6      0.780719   0.446851   0.866667                  \n",
      "    7      0.769664   0.420705   0.877778                  \n",
      "    8      0.761432   0.398866   0.877778                  \n",
      "    9      0.734596   0.377794   0.888889                  \n",
      "    10     0.720827   0.340944   0.911111                  \n",
      "    11     0.675594   0.34536    0.888889                  \n",
      "    12     0.686546   0.353657   0.888889                  \n",
      "    13     0.686168   0.382523   0.877778                  \n",
      "    14     0.676448   0.375527   0.877778                  \n",
      "    15     0.647493   0.333193   0.933333                  \n",
      "    16     0.663525   0.325094   0.911111                  \n",
      "    17     0.642945   0.332395   0.911111                  \n",
      "    18     0.63713    0.326396   0.9                       \n",
      "    19     0.625192   0.322097   0.911111                  \n",
      "    20     0.616841   0.318649   0.911111                  \n",
      "    21     0.610617   0.311325   0.922222                  \n",
      "    22     0.589533   0.312072   0.922222                  \n",
      "    23     0.581557   0.30015    0.922222                  \n",
      "    24     0.585995   0.295468   0.922222                  \n",
      "    25     0.577261   0.279271   0.922222                  \n",
      "    26     0.577968   0.276723   0.922222                  \n",
      "    27     0.562697   0.273861   0.922222                  \n",
      "    28     0.552588   0.279413   0.922222                  \n",
      "    29     0.567605   0.276661   0.922222                  \n",
      "    30     0.572208   0.274624   0.911111                  \n",
      "    31     0.566626   0.274439   0.922222                  \n",
      "    32     0.570057   0.293535   0.933333                  \n",
      "    33     0.574891   0.294689   0.9                       \n",
      "    34     0.563017   0.26121    0.933333                  \n",
      "    35     0.550146   0.228923   0.944444                  \n",
      "    36     0.527014   0.24036    0.933333                  \n",
      "    37     0.51636    0.249284   0.933333                  \n",
      "    38     0.523162   0.238933   0.944444                  \n",
      "    39     0.512521   0.259803   0.922222                  \n",
      "    40     0.483988   0.245102   0.922222                  \n",
      "    41     0.472019   0.240221   0.922222                  \n",
      "    42     0.477946   0.24171    0.944444                  \n",
      "    43     0.477769   0.250494   0.933333                  \n",
      "    44     0.459429   0.228319   0.933333                  \n",
      "    45     0.476583   0.263361   0.922222                  \n",
      "    46     0.462663   0.238443   0.922222                  \n",
      "    47     0.455542   0.258749   0.922222                  \n",
      "    48     0.452304   0.258866   0.933333                  \n",
      "    49     0.42681    0.232707   0.933333                  \n",
      "    50     0.425924   0.237544   0.933333                  \n",
      "    51     0.434186   0.255673   0.922222                  \n",
      "    52     0.439159   0.253354   0.922222                  \n",
      "    53     0.426913   0.230224   0.933333                  \n",
      "    54     0.421923   0.230365   0.922222                  \n",
      "    55     0.413447   0.227564   0.922222                  \n",
      "    56     0.418021   0.232833   0.933333                  \n",
      "    57     0.409185   0.236567   0.933333                  \n",
      "    58     0.414863   0.251173   0.944444                  \n",
      "    59     0.422792   0.233276   0.933333                  \n",
      "\n",
      "CPU times: user 14h 28min 36s, sys: 9min 36s, total: 14h 38min 12s\n",
      "Wall time: 38min 21s\n"
     ]
    },
    {
     "data": {
      "text/plain": [
       "[0.2332757121986813, 0.933333326710595]"
      ]
     },
     "execution_count": 66,
     "metadata": {},
     "output_type": "execute_result"
    }
   ],
   "source": [
    "%%time\n",
    "learn.fit(lrs*1, 2, wds=wd, cycle_len=30, use_clr=(8,8))"
   ]
  },
  {
   "cell_type": "code",
   "execution_count": 67,
   "metadata": {},
   "outputs": [],
   "source": [
    "learn.save('clas_2')"
   ]
  },
  {
   "cell_type": "code",
   "execution_count": 68,
   "metadata": {},
   "outputs": [],
   "source": [
    "learn.load('clas_2')"
   ]
  },
  {
   "cell_type": "markdown",
   "metadata": {},
   "source": [
    "## Predictions and performance"
   ]
  },
  {
   "cell_type": "code",
   "execution_count": 69,
   "metadata": {},
   "outputs": [],
   "source": [
    "@functools.lru_cache(maxsize=2**17)\n",
    "def pred(sent, tokenizer=Tokenizer()):\n",
    "    l = [stoi[p] for p in tokenizer.proc_text(sent)]\n",
    "    arr = np.transpose(np.array([l]))    \n",
    "    p = learn.predict_array(arr)[0]\n",
    "    return F.softmax(T(p)).detach().cpu().numpy()"
   ]
  },
  {
   "cell_type": "code",
   "execution_count": 70,
   "metadata": {},
   "outputs": [
    {
     "name": "stdout",
     "output_type": "stream",
     "text": [
      "In sample\n",
      "Accuracy: 0.9740740740740741 \n",
      "\n",
      "[[263   2   1]\n",
      " [  7 268   1]\n",
      " [  3   7 258]]\n"
     ]
    },
    {
     "data": {
      "image/png": "[encoded data removed]",
      "text/plain": [
       "<Figure size 432x288 with 2 Axes>"
      ]
     },
     "metadata": {
      "needs_background": "light"
     },
     "output_type": "display_data"
    }
   ],
   "source": [
    "print(\"In sample\")\n",
    "t = df_trn['labels']\n",
    "p = np.argmax(np.concatenate([pred(txt) for txt in df_trn.text]), axis=1)\n",
    "cm = confusion_matrix(t,p)\n",
    "print(\"Accuracy:\", np.diag(cm).sum()/cm.sum(), \"\\n\")\n",
    "plot_confusion_matrix(cm,['Negative','Neutral','Positive'])"
   ]
  },
  {
   "cell_type": "code",
   "execution_count": 71,
   "metadata": {},
   "outputs": [
    {
     "name": "stdout",
     "output_type": "stream",
     "text": [
      "In validation\n",
      "Accuracy: 0.9333333333333333 \n",
      "\n",
      "[[32  2  0]\n",
      " [ 0 23  1]\n",
      " [ 1  2 29]]\n"
     ]
    },
    {
     "data": {
      "image/png": "[encoded data removed]",
      "text/plain": [
       "<Figure size 432x288 with 2 Axes>"
      ]
     },
     "metadata": {
      "needs_background": "light"
     },
     "output_type": "display_data"
    }
   ],
   "source": [
    "print(\"In validation\")\n",
    "t = df_val['labels']\n",
    "p = np.argmax(np.concatenate([pred(txt) for txt in df_val.text]), axis=1)\n",
    "cm = confusion_matrix(t,p)\n",
    "print(\"Accuracy:\", np.diag(cm).sum()/cm.sum(), \"\\n\")\n",
    "plot_confusion_matrix(cm,['Negative','Neutral','Positive'])"
   ]
  },
  {
   "cell_type": "markdown",
   "metadata": {},
   "source": [
    "### Figure 6 - classifier perfomance"
   ]
  },
  {
   "cell_type": "code",
   "execution_count": 72,
   "metadata": {},
   "outputs": [],
   "source": [
    "# loading the test set\n",
    "test_set = pd.read_csv('100labeled.csv')"
   ]
  },
  {
   "cell_type": "code",
   "execution_count": 73,
   "metadata": {},
   "outputs": [],
   "source": [
    "test_set['pred'] = test_set.text.apply(lambda x:np.argmax(pred(x)))\n",
    "test_set['pred'] = test_set['pred'].map({0:'neg',1:'pos',2:'neutral'})"
   ]
  },
  {
   "cell_type": "code",
   "execution_count": 74,
   "metadata": {},
   "outputs": [
    {
     "name": "stdout",
     "output_type": "stream",
     "text": [
      "Accuracy: 0.83 \n",
      "\n",
      "[[34  1  3]\n",
      " [ 3 19  4]\n",
      " [ 5  1 30]]\n"
     ]
    },
    {
     "data": {
      "image/png": "[encoded data removed]",
      "text/plain": [
       "<Figure size 432x288 with 2 Axes>"
      ]
     },
     "metadata": {
      "needs_background": "light"
     },
     "output_type": "display_data"
    }
   ],
   "source": [
    "test_cm = confusion_matrix(test_set.value,test_set.pred)\n",
    "print(\"Accuracy:\", np.diag(test_cm).sum()/test_cm.sum(), \"\\n\")\n",
    "plot_confusion_matrix(test_cm,['Negative','Neutral','Positive'])\n",
    "\n",
    "plt.savefig('fig6.pdf',bbox_inches='tight')"
   ]
  },
  {
   "cell_type": "markdown",
   "metadata": {},
   "source": [
    "## Calculating the sentiment for each MPR"
   ]
  },
  {
   "cell_type": "code",
   "execution_count": 75,
   "metadata": {},
   "outputs": [],
   "source": [
    "files = os.listdir('mpr_text/')\n",
    "files = [f for f in files if f.endswith('.txt')]\n",
    "files2 = []\n",
    "for file in files:\n",
    "    y,mm,d=map(int,file.split('.')[0].split('-')[1:])\n",
    "    if y<2009 and mm in (1,2,7,8):\n",
    "        continue\n",
    "    if y==2009 and mm==1:\n",
    "        continue\n",
    "    files2.append(file)\n",
    "files=files2"
   ]
  },
  {
   "cell_type": "code",
   "execution_count": 76,
   "metadata": {},
   "outputs": [],
   "source": [
    "dates = list(sorted(['-'.join(f.split('.')[0].split('-')[1:]) for f in files]))"
   ]
  },
  {
   "cell_type": "code",
   "execution_count": 77,
   "metadata": {},
   "outputs": [],
   "source": [
    "sentiment = pd.DataFrame(index=pd.DatetimeIndex(dates),columns=['Sentiment'])"
   ]
  },
  {
   "cell_type": "code",
   "execution_count": 78,
   "metadata": {},
   "outputs": [],
   "source": [
    "nlp = spacy.load('en_core_web_lg')"
   ]
  },
  {
   "cell_type": "code",
   "execution_count": 79,
   "metadata": {},
   "outputs": [],
   "source": [
    "def get_sent_mpr(date):\n",
    "    file = 'mpr-'+date+'.txt'\n",
    "    with open('mpr_text/'+file) as ff:\n",
    "        text = ff.read()\n",
    "    sents = list(nlp(text).sents)\n",
    "    sents = [n.text for n in sents]\n",
    "    pos = 0\n",
    "    neg = 0\n",
    "    neutral = 0\n",
    "    for s in sents:\n",
    "        tone = np.argmax(pred(s))\n",
    "        if tone == 0:\n",
    "            neg += 1\n",
    "        elif tone == 1:\n",
    "            pos += 1\n",
    "        elif tone == 2:\n",
    "            neutral += 1\n",
    "    sentim = (pos - neg)/(pos + neg + neutral)\n",
    "    return sentim"
   ]
  },
  {
   "cell_type": "code",
   "execution_count": 80,
   "metadata": {},
   "outputs": [],
   "source": [
    "sentiment.loc[:,'Sentiment'] = list(map(get_sent_mpr,dates))\n",
    "sentiment = sentiment.apply(zscore)"
   ]
  },
  {
   "cell_type": "markdown",
   "metadata": {},
   "source": [
    "### Figure 7 - Sentiment"
   ]
  },
  {
   "cell_type": "code",
   "execution_count": 83,
   "metadata": {},
   "outputs": [
    {
     "data": {
      "image/png": "[encoded data removed]",
      "text/plain": [
       "<Figure size 1152x648 with 2 Axes>"
      ]
     },
     "metadata": {
      "needs_background": "light"
     },
     "output_type": "display_data"
    }
   ],
   "source": [
    "# Making the chart\n",
    "\n",
    "fig, ((ax1, ax2)) = plt.subplots(2, 1, sharex=True, gridspec_kw = {'height_ratios':[3, 1]})\n",
    "sentiment.plot(ax=ax1,figsize=(16,9),color='k')\n",
    "\n",
    "bottom_tercile = pd.DataFrame(index=sentiment.index, columns=[''],data=np.percentile(sentiment.mean(axis=1),(100/3)*1,interpolation=\"nearest\"))\n",
    "top_tercile = pd.DataFrame(index=sentiment.index, columns=[''],data=np.percentile(sentiment.mean(axis=1),(100/3)*2,interpolation=\"nearest\"))\n",
    "\n",
    "bottom_tercile.plot(figsize=(16,9),alpha=1,ax=ax1,color='gray',linewidth=0.25)\n",
    "top_tercile.plot(figsize=(16,9),alpha=1,ax=ax1,color='gray',linewidth=0.25)\n",
    "\n",
    "\n",
    "ax1.axhline(0,color='k', linewidth=0.025)\n",
    "\n",
    "ax1.axvline(dt.date(2001,2,1),color='lightgray', zorder=20,linewidth=.2)\n",
    "ax1.axvline(dt.date(2008,2,1),color='lightgray', zorder=20,linewidth=.2)\n",
    "ax1.axvline(dt.date(2013,6,3),color='lightgray', zorder=20,linewidth=.2)\n",
    "\n",
    "plt.subplots_adjust(hspace=0)\n",
    "#Import the GDP data from Statcan\n",
    "table_num = \"36100104\"\n",
    "link = f'https://www150.statcan.gc.ca/n1/tbl/csv/{table_num}-eng.zip'\n",
    "r = requests.get(link)\n",
    "zip_file = ZipFile(BytesIO(r.content))\n",
    "GDP_fisher = pd.read_csv(zip_file.open(f'{table_num}.csv'), index_col=10,na_values=['..','...','x','F'])  \n",
    "\n",
    "# Show only the necessary values using V-number\n",
    "GDP_fisher = GDP_fisher.loc['v62305752']\n",
    "Index2 = GDP_fisher.REF_DATE.values\n",
    "GDP_fisher.index = Index2\n",
    "GDP_fisher = GDP_fisher.drop(['REF_DATE', 'GEO', 'DGUID', 'Seasonal adjustment', 'UOM', 'UOM_ID', 'SCALAR_FACTOR', 'SCALAR_ID', 'COORDINATE', 'STATUS', 'SYMBOL', 'TERMINATED', 'DECIMALS'], axis =1)\n",
    "GDP_fisher = GDP_fisher.pivot_table(index = GDP_fisher.index, columns = 'Prices', values = 'VALUE')\n",
    "GDP_fisher.columns = ['real GDP (fisher)']\n",
    "GDP_fisher = GDP_fisher.loc['1994-01':,]\n",
    "\n",
    "# Create the year over year real GDP growth for each quarter \n",
    "GDP_fisher = (GDP_fisher/GDP_fisher.shift(4) - 1)*100\n",
    "GDP_fisher = GDP_fisher.loc['1995-01':,]\n",
    "GDP_fisher.columns = ['Real GDP Growth']\n",
    "\n",
    "# Change to necessary date format for plot \n",
    "GDP_fisher.index = pd.to_datetime(GDP_fisher.index)\n",
    "dates = mdates.date2num(GDP_fisher.index.to_pydatetime())\n",
    "values = GDP_fisher.loc[:,'Real GDP Growth'].values\n",
    "\n",
    "# Plot\n",
    "ymax = 7\n",
    "ymin = -4.5\n",
    "difference = ymax - ymin\n",
    "\n",
    "thiessenstarttime = (dt.date(1995,1,1))\n",
    "thiessenendtime = (dt.date(2001,1,31))\n",
    "thiessenstart = mdates.date2num(thiessenstarttime)\n",
    "thiessenend = mdates.date2num(thiessenendtime)\n",
    "thiessenwidth = thiessenend - thiessenstart \n",
    "\n",
    "dodgestarttime = (dt.date(2001,2,1))\n",
    "dodgeendtime = (dt.date(2008,1,31))\n",
    "dodgestart = mdates.date2num(dodgestarttime)\n",
    "dodgeend = mdates.date2num(dodgeendtime)\n",
    "dodgewidth = dodgeend - dodgestart \n",
    "\n",
    "carneystarttime = (dt.date(2008,2,1))\n",
    "carneyendtime = (dt.date(2013,6,1))\n",
    "carneystart = mdates.date2num(carneystarttime)\n",
    "carneyend = mdates.date2num(carneyendtime)\n",
    "carneywidth = carneyend - carneystart \n",
    "\n",
    "polozstarttime = (dt.date(2013,6,3))\n",
    "polozendtime = (dt.date(2020,6,2))\n",
    "polozstart = mdates.date2num(polozstarttime)\n",
    "polozend = mdates.date2num(polozendtime)\n",
    "polozwidth = polozend - polozstart \n",
    "rectangles = {'Gordon Thiessen' :patches.Rectangle((thiessenstart,.385*difference+ymin),\n",
    "                                                   thiessenwidth,(.25*difference), linewidth = 1,\n",
    "                                                   edgecolor ='w', facecolor='blue', zorder=5, alpha=.2),\n",
    "              'David Dodge': patches.Rectangle((dodgestart,.385*difference+ymin),dodgewidth,\n",
    "                                               (.25*difference), linewidth = 1, edgecolor ='w',\n",
    "                                               facecolor='blue',zorder=5, alpha=.4),\n",
    "              'Mark Carney': patches.Rectangle((carneystart,.385*difference+ymin),carneywidth\n",
    "                                               ,(.25*difference), linewidth = 1, edgecolor ='w',\n",
    "                                               facecolor='navy',zorder=5, alpha=.5),\n",
    "              'Steven S. Poloz': patches.Rectangle((polozstart,.385*difference+ymin),polozwidth,\n",
    "                                                   (.25*difference), linewidth = 1,edgecolor ='w',\n",
    "                                                   facecolor='navy',zorder=5, alpha=.7)}\n",
    "for r in rectangles:\n",
    "    ax2.add_artist(rectangles[r])\n",
    "    rx, ry = rectangles[r].get_xy()\n",
    "    cx = rx + rectangles[r].get_width()/2.0\n",
    "    cy = ry + rectangles[r].get_height()/2.0\n",
    "    ax2.annotate(r, (cx, cy), color='white', weight='bold', \n",
    "                fontsize=15, ha='center', va='center', zorder=20)\n",
    "ax2.set_xlim((dt.date(1995,1,1),dt.date(2020,6,2)))\n",
    "years = pd.to_datetime(range(1995,2020,2), format='%Y')\n",
    "yearnumbers = mdates.date2num(years.to_pydatetime())\n",
    "ax2.set_xticks(yearnumbers)\n",
    "ax2.set_yticks([])\n",
    "starttime = (dt.date(1995,1,1))\n",
    "endtime = (dt.date(2022,1,31))\n",
    "start = mdates.date2num(starttime)\n",
    "end = mdates.date2num(endtime)\n",
    "plt.plot(dates,values, color='w')\n",
    "annotations = sorted([\n",
    "    (dt.date(1997,7,15),'Asian financial crisis',-3.5),\n",
    "    (dt.date(1999,1,1),'Dot-com bubble',4.5),\n",
    "    (dt.date(2001,9,11),'9/11',-3.5),\n",
    "    (dt.date(2002,11,1),'SARS and BSE',4.5),\n",
    "    (dt.date(2008,9,1),'Global financial crisis',-3.5),\n",
    "    (dt.date(2010,9,1),'European debt drisis',4.5),\n",
    "    (dt.date(2012,9,1),'US debt ceiling',-3.5),\n",
    "    (dt.date(2014,9,1),'Oil price shock',4.5),\n",
    "    (dt.date(2016,11,8),'Trade tensions',-3.5)\n",
    "])\n",
    "for q, a in enumerate(annotations):\n",
    "    w = a[2]\n",
    "    dm = mdates.date2num(a[0])\n",
    "    plt.annotate(a[1],xy=(dm,0),xytext=(dm,.5*0 + w),\\\n",
    "            arrowprops=dict(facecolor='black', arrowstyle='-',linewidth=.5),\\\n",
    "            ha='center',va='center')\n",
    "#, fontsize=11, weight='bold'\n",
    "ax2.minorticks_off()\n",
    "ax2.axhline(0,color='k',linewidth=.0025)\n",
    "box1 = ax1.get_position()\n",
    "box2 = ax2.get_position()\n",
    "ax1.set_position([box1.x0, box1.y0 + box1.height * 0.1,\n",
    "                 box1.width, box1.height * 0.9])\n",
    "ax2.set_position([box2.x0, box2.y0+box1.height*0.1,\n",
    "                 box2.width, box2.height])\n",
    "ax1.legend(loc='upper center', bbox_to_anchor=(0.5, -0.25-box2.height),\\\n",
    "          fancybox=True, shadow=False, ncol=4, fontsize = 'medium')\n",
    "ax1.yaxis.tick_right()\n",
    "plt.setp(ax1.get_xticklabels(), fontsize=12)\n",
    "plt.setp(ax1.get_yticklabels(), fontsize=12)\n",
    "ax1.set_ylabel(\"MPR sentiment\", rotation='horizontal', fontsize=12)\n",
    "ax1.yaxis.set_label_coords(0.96,1.02)\n",
    "\n",
    "plt.text(0.125, 0.16, 'Note: SARS is severe acute respiratory syndrome. BSE is bovine spongiform encephalopathy.', transform=plt.gcf().transFigure, fontsize=9.5)\n",
    "plt.text(.775, 0.16, 'Last observation: October 2018 MPR', transform=plt.gcf().transFigure, fontsize=9.5)\n",
    "\n",
    "plt.text(.51, 0.72, 'Top tercile', transform=plt.gcf().transFigure, fontsize=9.5)\n",
    "plt.text(.4, 0.61, 'Bottom tercile', transform=plt.gcf().transFigure, fontsize=9.5)\n",
    "\n",
    "plt.savefig('fig7.pdf',bbox_inches='tight')"
   ]
  },
  {
   "cell_type": "code",
   "execution_count": null,
   "metadata": {},
   "outputs": [],
   "source": []
  }
 ],
 "metadata": {
  "_draft": {
   "nbviewer_url": "https://gist.github.com/0dd0df21cf404cf2bb51d0148c8b7d8b"
  },
  "gist": {
   "data": {
    "description": "fastai.text imdb example",
    "public": true
   },
   "id": "0dd0df21cf404cf2bb51d0148c8b7d8b"
  },
  "kernelspec": {
   "display_name": "Python 3",
   "language": "python",
   "name": "python3"
  },
  "language_info": {
   "codemirror_mode": {
    "name": "ipython",
    "version": 3
   },
   "file_extension": ".py",
   "mimetype": "text/x-python",
   "name": "python",
   "nbconvert_exporter": "python",
   "pygments_lexer": "ipython3",
   "version": "3.6.8"
  },
  "toc": {
   "colors": {
    "hover_highlight": "#DAA520",
    "navigate_num": "#000000",
    "navigate_text": "#333333",
    "running_highlight": "#FF0000",
    "selected_highlight": "#FFD700",
    "sidebar_border": "#EEEEEE",
    "wrapper_background": "#FFFFFF"
   },
   "moveMenuLeft": true,
   "nav_menu": {
    "height": "86px",
    "width": "252px"
   },
   "navigate_menu": true,
   "number_sections": true,
   "sideBar": true,
   "threshold": 4,
   "toc_cell": false,
   "toc_section_display": "block",
   "toc_window_display": false,
   "widenNotebook": false
  }
 },
 "nbformat": 4,
 "nbformat_minor": 2
}
